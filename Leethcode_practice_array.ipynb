{
  "nbformat": 4,
  "nbformat_minor": 0,
  "metadata": {
    "colab": {
      "provenance": []
    },
    "kernelspec": {
      "name": "python3",
      "display_name": "Python 3"
    },
    "language_info": {
      "name": "python"
    }
  },
  "cells": [
    {
      "cell_type": "markdown",
      "source": [
        "**First_prectice**"
      ],
      "metadata": {
        "id": "NUEoY7TMjohr"
      }
    },
    {
      "cell_type": "markdown",
      "source": [
        "You are given two integer arrays nums1 and nums2, sorted in non-decreasing order, and two integers m and n, representing the number of elements in nums1 and nums2 respectively.\n",
        "\n",
        "\n",
        "Merge nums1 and nums2 into a single array sorted in non-decreasing order.\n",
        "\n",
        "\n",
        "The final sorted array should not be returned by the function, but instead be stored inside the array nums1. To accommodate this, nums1 has a length of m + n, where the first m elements denote the elements that should be merged, and the last n elements are set to 0 and should be ignored. nums2 has a length of n.\n",
        "\n",
        "\n",
        "\n",
        "Example 1:\n",
        "\n",
        "Input: nums1 = [1,2,3,0,0,0], m = 3, nums2 = [2,5,6], n = 3\n",
        "\n",
        "Output: [1,2,2,3,5,6]\n",
        "\n",
        "Explanation: The arrays we are merging are [1,2,3] and [2,5,6].\n",
        "\n",
        "The result of the merge is [1,2,2,3,5,6] with the underlined elements coming from nums1.\n",
        "\n",
        "Example 2:\n",
        "\n",
        "Input: nums1 = [1], m = 1, nums2 = [], n = 0\n",
        "\n",
        "Output: [1]\n",
        "\n",
        "Explanation: The arrays we are merging are [1] and [].\n",
        "\n",
        "The result of the merge is [1].\n",
        "\n",
        "Example 3:\n",
        "\n",
        "Input: nums1 = [0], m = 0, nums2 = [1], n = 1\n",
        "\n",
        "Output: [1]\n",
        "\n",
        "Explanation: The arrays we are merging are [] and [1].\n",
        "\n",
        "The result of the merge is [1].\n",
        "\n",
        "Note that because m = 0, there are no elements in nums1. The 0 is only there to ensure the merge result can fit in nums1."
      ],
      "metadata": {
        "id": "B0vACpspf4hX"
      }
    },
    {
      "cell_type": "code",
      "execution_count": 27,
      "metadata": {
        "id": "dDxq1PvbcJuK"
      },
      "outputs": [],
      "source": [
        "def num(num1,num2):\n",
        "  num3=num1[0:len(num1)-len(num2)]+num2\n",
        "  num3.sort()\n",
        "  return num3"
      ]
    },
    {
      "cell_type": "code",
      "source": [
        "num1 = [1,2,3,0,0,0]\n",
        "num2 = [2,5,6]"
      ],
      "metadata": {
        "id": "LRJX-F2DfcpC"
      },
      "execution_count": 31,
      "outputs": []
    },
    {
      "cell_type": "code",
      "source": [
        "num(num1,num2)"
      ],
      "metadata": {
        "colab": {
          "base_uri": "https://localhost:8080/"
        },
        "id": "gJJsgevtfODf",
        "outputId": "168f570c-687a-450b-e6f4-0b42b4613c4a"
      },
      "execution_count": 32,
      "outputs": [
        {
          "output_type": "execute_result",
          "data": {
            "text/plain": [
              "[1, 2, 2, 3, 5, 6]"
            ]
          },
          "metadata": {},
          "execution_count": 32
        }
      ]
    },
    {
      "cell_type": "code",
      "source": [
        "nums1 = [1]\n",
        "nums2 = []"
      ],
      "metadata": {
        "id": "8bPA7s23fQGB"
      },
      "execution_count": 33,
      "outputs": []
    },
    {
      "cell_type": "code",
      "source": [
        "num(nums1,nums2)"
      ],
      "metadata": {
        "colab": {
          "base_uri": "https://localhost:8080/"
        },
        "id": "biHwu22afrBv",
        "outputId": "03018fa0-51c3-45a6-9184-68ee49041eb5"
      },
      "execution_count": 34,
      "outputs": [
        {
          "output_type": "execute_result",
          "data": {
            "text/plain": [
              "[1]"
            ]
          },
          "metadata": {},
          "execution_count": 34
        }
      ]
    },
    {
      "cell_type": "markdown",
      "source": [
        "**Second_practice**"
      ],
      "metadata": {
        "id": "KgCo3GOLjkPF"
      }
    },
    {
      "cell_type": "markdown",
      "source": [
        "Given an integer array nums and an integer val, remove all occurrences of val in nums in-place. The order of the elements may be changed. Then return the number of elements in nums which are not equal to val.\n",
        "\n",
        "\n",
        "Consider the number of elements in nums which are not equal to val be k, to get accepted, you need to do the following things:\n",
        "\n",
        "\n",
        "Change the array nums such that the first k elements of nums contain the elements which are not equal to val. The remaining elements of nums are not important as well as the size of nums.\n",
        "Return k.\n",
        "\n",
        "Custom Judge:\n",
        "\n",
        "The judge will test your solution with the following code:\n",
        "\n",
        "int[] nums = [...]; // Input array\n",
        "\n",
        "int val = ...; // Value to remove\n",
        "\n",
        "int[] expectedNums = [...];\n",
        "// The expected answer with correct length.\n",
        "\n",
        "                            // It is sorted with no values equaling val.\n",
        "\n",
        "int k = removeElement(nums, val); // Calls your implementation\n",
        "\n",
        "assert k == expectedNums.length;\n",
        "\n",
        "sort(nums, 0, k); // Sort the first k elements of nums\n",
        "for (int i = 0; i < actualLength; i++) {\n",
        "    assert nums[i] == expectedNums[i];\n",
        "}\n",
        "\n",
        "If all assertions pass, then your solution will be accepted.\n",
        "\n",
        "\n",
        "\n",
        "Example 1:\n",
        "\n",
        "Input: nums = [3,2,2,3], val = 3\n",
        "\n",
        "Output: 2, nums = [2,2,_,_]\n",
        "\n",
        "\n",
        "Explanation: Your function should return k = 2, with the first two elements of nums being 2.\n",
        "\n",
        "It does not matter what you leave beyond the returned k (hence they are underscores).\n",
        "\n",
        "Example 2:\n",
        "\n",
        "Input: nums = [0,1,2,2,3,0,4,2], val = 2\n",
        "\n",
        "Output: 5, nums = [0,1,4,0,3,_,_,_]\n",
        "\n",
        "Explanation: Your function should return k = 5, with the first five elements of nums containing 0, 0, 1, 3, and 4.\n",
        "\n",
        "Note that the five elements can be returned in any order.\n",
        "\n",
        "It does not matter what you leave beyond the returned k (hence they are underscores).\n",
        "\n",
        "\n",
        "Constraints:\n",
        "\n",
        "0 <= nums.length <= 100\n",
        "0 <= nums[i] <= 50\n",
        "0 <= val <= 100"
      ],
      "metadata": {
        "id": "aBhsvUpwjPug"
      }
    },
    {
      "cell_type": "code",
      "source": [
        "def d_num(val,nums):\n",
        " nums2=[]\n",
        " for i in range(0,len(nums)):\n",
        "    if not nums[i]==val:\n",
        "      nums2.append(nums[i])\n",
        " k=len(nums)-len(nums2)\n",
        " print(nums2)\n",
        " print(f\"k={k}\")"
      ],
      "metadata": {
        "id": "Jsnb90eiiHo3"
      },
      "execution_count": 44,
      "outputs": []
    },
    {
      "cell_type": "code",
      "source": [
        "nums = [3,2,2,3,3,3,3,6,7,8,94,2,34]\n",
        "val = 3"
      ],
      "metadata": {
        "id": "jda5Kv-VhRbL"
      },
      "execution_count": 50,
      "outputs": []
    },
    {
      "cell_type": "code",
      "source": [
        "d_num(val,nums)"
      ],
      "metadata": {
        "colab": {
          "base_uri": "https://localhost:8080/"
        },
        "id": "lH3qAIqPiibJ",
        "outputId": "995f8a84-5b6d-4417-9132-70d76f3b092c"
      },
      "execution_count": 51,
      "outputs": [
        {
          "output_type": "stream",
          "name": "stdout",
          "text": [
            "[2, 2, 6, 7, 8, 94, 2, 34]\n",
            "k=5\n"
          ]
        }
      ]
    },
    {
      "cell_type": "code",
      "source": [],
      "metadata": {
        "id": "_P3TZm4pi67q"
      },
      "execution_count": null,
      "outputs": []
    }
  ]
}